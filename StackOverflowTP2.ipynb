{
 "cells": [
  {
   "cell_type": "code",
   "execution_count": 2,
   "metadata": {},
   "outputs": [],
   "source": [
    "from __future__ import division\n",
    "import nltk \n",
    "import re\n",
    "from bs4 import BeautifulSoup\n",
    "import xml.etree.ElementTree as ET\n",
    "import numpy as np\n",
    "import pandas as pd\n",
    "import lxml.html\n",
    "from nltk.corpus import stopwords\n",
    "from nltk.stem import *\n",
    "import networkx as nx\n",
    "from datetime import datetime\n",
    "from sklearn import svm, datasets"
   ]
  },
  {
   "cell_type": "code",
   "execution_count": 9,
   "metadata": {
    "scrolled": true
   },
   "outputs": [
    {
     "name": "stdout",
     "output_type": "stream",
     "text": [
      "[('javascript', '1457944'), ('java', '1303993'), ('c#', '1129802'), ('php', '1114030'), ('android', '1021740'), ('jquery', '864336'), ('python', '806788'), ('html', '683981'), ('c++', '529933'), ('ios', '525202'), ('css', '490198'), ('mysql', '480774'), ('sql', '402723'), ('asp.net', '321623'), ('ruby-on-rails', '279814'), ('objective-c', '279161'), ('c', '257777'), ('.net', '257092'), ('angularjs', '240471'), ('arrays', '236131'), ('iphone', '217989'), ('sql-server', '209941'), ('json', '209002'), ('r', '198938'), ('node.js', '188508'), ('ruby', '186002'), ('ajax', '175337'), ('regex', '173693'), ('xml', '162578'), ('swift', '161280')]\n"
     ]
    },
    {
     "data": {
      "text/html": [
       "<iframe id=\"igraph\" scrolling=\"no\" style=\"border:none;\" seamless=\"seamless\" src=\"https://plot.ly/~upmangaurav/10.embed\" height=\"525px\" width=\"100%\"></iframe>"
      ],
      "text/plain": [
       "<plotly.tools.PlotlyDisplay object>"
      ]
     },
     "execution_count": 9,
     "metadata": {},
     "output_type": "execute_result"
    }
   ],
   "source": [
    "# Calculating and plotting global Tag distribution\n",
    "\n",
    "import plotly.plotly as py\n",
    "import plotly.graph_objs as go\n",
    "import plotly.figure_factory as FF\n",
    "\n",
    "tags = {}\n",
    "perc = {}\n",
    "tag4Plot = {}\n",
    "i, totalCount = 0, 0\n",
    "\n",
    "root = ET.parse('Tags.xml').getroot()\n",
    "for row in root.findall('row'):\n",
    "    tags[row.get(\"TagName\")] = row.get(\"Count\")\n",
    "    totalCount += int(row.get(\"Count\"))\n",
    "    \n",
    "globalTagFrequency = sorted(tags.items(), key=lambda item: int(item[1]), reverse = True)\n",
    "topTags = globalTagFrequency[0:500]\n",
    "print(topTags[:30])\n",
    "\n",
    "for tag in topTags:\n",
    "    tag4Plot[i] = tag[1]\n",
    "    i += 1\n",
    "\n",
    "trace1 = go.Bar(\n",
    "    x=list(tag4Plot.keys()),\n",
    "    y=list(tag4Plot.values()), \n",
    "    name='tagDist'\n",
    ")\n",
    "\n",
    "data1 = [trace1]\n",
    "layout1 = go.Layout(\n",
    "    barmode='line',\n",
    "    title = 'Tag Distribution'\n",
    ")\n",
    "\n",
    "fig1 = go.Figure(data=data1, layout=layout1)\n",
    "py.iplot(fig1, filename='degDist')\n",
    "\n",
    "# globalTagFrequency[:500]"
   ]
  },
  {
   "cell_type": "code",
   "execution_count": 21,
   "metadata": {
    "scrolled": false
   },
   "outputs": [
    {
     "data": {
      "text/html": [
       "<iframe id=\"igraph\" scrolling=\"no\" style=\"border:none;\" seamless=\"seamless\" src=\"https://plot.ly/~upmangaurav/21.embed\" height=\"525px\" width=\"100%\"></iframe>"
      ],
      "text/plain": [
       "<plotly.tools.PlotlyDisplay object>"
      ]
     },
     "execution_count": 21,
     "metadata": {},
     "output_type": "execute_result"
    }
   ],
   "source": [
    "# init_notebook_mode(connected=False)\n",
    "tagName = []\n",
    "frequency = []\n",
    "for i in range(20):\n",
    "    tagName.append(topTags[i][0])\n",
    "    frequency.append(topTags[i][1])\n",
    "    \n",
    "trace = go.Table(\n",
    "    header=dict(values=['Tag', 'Occurence']),\n",
    "    cells=dict(values = (tagName, frequency)))\n",
    "\n",
    "data = [trace] \n",
    "py.iplot(data, filename = 'Top 20 Tags')"
   ]
  },
  {
   "cell_type": "code",
   "execution_count": null,
   "metadata": {},
   "outputs": [],
   "source": []
  }
 ],
 "metadata": {
  "kernelspec": {
   "display_name": "Python 3",
   "language": "python",
   "name": "python3"
  },
  "language_info": {
   "codemirror_mode": {
    "name": "ipython",
    "version": 3
   },
   "file_extension": ".py",
   "mimetype": "text/x-python",
   "name": "python",
   "nbconvert_exporter": "python",
   "pygments_lexer": "ipython3",
   "version": "3.5.2"
  }
 },
 "nbformat": 4,
 "nbformat_minor": 1
}
